{
 "cells": [
  {
   "cell_type": "markdown",
   "id": "173864d6-497f-42af-82ae-0849234d1239",
   "metadata": {},
   "source": [
    "# PIACC Inverter Example \n",
    "\n",
    "This notebook is a basic functional example of how to use PIACC to create a basic inverter from high level description, to netlist, to layout using the SKY130 process technology. "
   ]
  },
  {
   "cell_type": "markdown",
   "id": "1b7d7603-2080-41a7-b4c7-dd3c6ea2a880",
   "metadata": {},
   "source": [
    "# Checking imports"
   ]
  },
  {
   "cell_type": "code",
   "execution_count": 8,
   "id": "552e47c4-6c36-43e6-bb45-e5388443e346",
   "metadata": {},
   "outputs": [],
   "source": [
    "import os \n",
    "import PySpice.Spice.Simulation\n",
    "import subprocess\n",
    "import gdstk\n",
    "import matplotlib.pyplot as plt\n",
    "import matplotlib.patches as patches\n",
    "\n",
    "from PySpice.Spice.Netlist import Circuit\n",
    "from PySpice.Unit import *\n",
    "from pathlib import Path\n",
    "\n",
    "PySpice.Spice.Simulation.CircuitSimulator.DEFAULT_SIMULATOR = 'ngspice-shared'\n",
    "\n",
    "ALIGN_PDK_DIR = './ALIGN-public/pdks/SKY130_PDK/'\n",
    "ALIGN_NET_DIR = 'ALIGN_WORK_DIR/'"
   ]
  },
  {
   "cell_type": "markdown",
   "id": "6028b956-31cf-4ed8-abfd-4046e618c5ac",
   "metadata": {},
   "source": [
    "# Function Definition"
   ]
  },
  {
   "cell_type": "code",
   "execution_count": 14,
   "id": "ddc03538-d757-4060-a7ef-73521803c41d",
   "metadata": {},
   "outputs": [],
   "source": [
    "#pyspice to align port \n",
    "def export_circuit_to_align(circuit, align_dir='ALIGN_WORK_DIR', cell_name='my_circuit'):\n",
    "    \"\"\"\n",
    "    Exports a PySpice circuit to a SPICE netlist compatible with ALIGN.\n",
    "\n",
    "    Parameters:\n",
    "    - circuit: PySpice Circuit object\n",
    "    - align_dir: str, path to ALIGN working directory\n",
    "    - cell_name: str, name of the circuit (also used as subckt name and folder name)\n",
    "    \"\"\"\n",
    "    #from PySpice.Spice.Netlist import Circuit\n",
    "\n",
    "    if not isinstance(circuit, Circuit):\n",
    "        raise ValueError(\"Expected a PySpice Circuit object.\")\n",
    "\n",
    "    # Create target directory\n",
    "    cell_dir = Path(align_dir) / cell_name\n",
    "    cell_dir.mkdir(parents=True, exist_ok=True)\n",
    "\n",
    "    # Format the netlist string\n",
    "    netlist_lines = str(circuit).splitlines()\n",
    "\n",
    "    # Remove .include or .lib lines (ALIGN doesn't need models here)\n",
    "    netlist_lines = [line for line in netlist_lines if not line.strip().lower().startswith(('.include', '.lib', '.param', '.control'))]\n",
    "\n",
    "    # Ensure netlist is wrapped in a .subckt block if not already\n",
    "    has_subckt = any(line.lower().startswith('.subckt') for line in netlist_lines)\n",
    "    if not has_subckt:\n",
    "        # Collect all nodes involved (rough heuristic)\n",
    "        nodes = set()\n",
    "        for line in netlist_lines:\n",
    "            tokens = line.split()\n",
    "            if tokens and tokens[0][0].upper() in 'MRCLX':\n",
    "                nodes.update(tokens[1:-1])\n",
    "        ports = ' '.join(sorted(nodes - {'vdd', 'vss', 'gnd'}))\n",
    "        netlist_lines.insert(0, f'.subckt {cell_name} {ports}')\n",
    "        netlist_lines.append(f'.ends {cell_name}')\n",
    "\n",
    "    # Write to file\n",
    "    netlist_path = cell_dir / f'{cell_name}.sp'\n",
    "    with open(netlist_path, 'w') as f:\n",
    "        f.write('\\n'.join(netlist_lines))\n",
    "\n",
    "    print(f\" :) Netlist exported for ALIGN: {netlist_path}\")\n"
   ]
  },
  {
   "cell_type": "markdown",
   "id": "1b3bff47-edd0-4af5-864a-a247060932ff",
   "metadata": {},
   "source": [
    "# Circuit Definition"
   ]
  },
  {
   "cell_type": "code",
   "execution_count": 5,
   "id": "c4608811-129d-49a5-abe5-ca58775b0f68",
   "metadata": {},
   "outputs": [
    {
     "name": "stdout",
     "output_type": "stream",
     "text": [
      ".title inverter_sky130\n",
      ".lib /PIACC/pySpiceLibrary/skywater-pdk/libraries/sky130_fd_pr/latest/models/sky130.lib.spice tt\n",
      "M1 out Vin vdd vdd sky130_fd_pr__nfet_01v8 l=1.5e-07 w=1e-06\n",
      "M2 out Vin vss vss sky130_fd_pr__pfet_01v8 l=1.5e-07 w=1e-06\n",
      "\n"
     ]
    }
   ],
   "source": [
    "circuit = Circuit('inverter_sky130') #title of netlist \n",
    "circuit.lib('pySpiceLibrary/skywater-pdk/libraries/sky130_fd_pr/latest/models/sky130.lib.spice', 'tt') #connecting to spice lib\n",
    "\n",
    "circuit.M('1', 'out', 'Vin', 'vdd', 'vdd', model='sky130_fd_pr__nfet_01v8', w=1e-6, l=0.15e-6)\n",
    "circuit.M('2', 'out', 'Vin', 'vss', 'vss', model='sky130_fd_pr__pfet_01v8', w=1e-6, l=0.15e-6)\n",
    "\n",
    "print(circuit)"
   ]
  },
  {
   "cell_type": "code",
   "execution_count": 6,
   "id": "9353064b-9b23-42a1-b0ff-855ba57deb51",
   "metadata": {},
   "outputs": [
    {
     "name": "stdout",
     "output_type": "stream",
     "text": [
      "✅ Netlist exported for ALIGN: ALIGN_WORK_DIR/my_circuit/my_circuit.sp\n"
     ]
    }
   ],
   "source": [
    "export_circuit_to_align(circuit, align_dir='ALIGN_WORK_DIR', cell_name='my_circuit')"
   ]
  },
  {
   "cell_type": "code",
   "execution_count": 12,
   "id": "cc38bb73-1c47-40b5-b8bc-2ecaa72a1ea1",
   "metadata": {},
   "outputs": [
    {
     "name": "stdout",
     "output_type": "stream",
     "text": [
      "\u001b[32malign.main INFO : Reading netlist: /PIACC/ALIGN_WORK_DIR/my_circuit/my_circuit.sp subckt=MY_CIRCUIT, flat=0\u001b[0m\n",
      "\u001b[32malign.compiler.compiler INFO : Starting topology identification...\u001b[0m\n",
      "\u001b[32malign.compiler.compiler INFO : Power and ground nets not found. Power grid will not be constructed.\u001b[0m\n",
      "\u001b[32malign.compiler.compiler INFO : Completed topology identification.\u001b[0m\n",
      "\u001b[31malign.cell_fabric.drc ERROR : Found errors: DRC 2\u001b[0m\n",
      "\u001b[31malign.cell_fabric.drc ERROR : Found errors: DRC 2\u001b[0m\n",
      "\u001b[32malign.pnr.main INFO : Running Place & Route for MY_CIRCUIT\u001b[0m\n",
      "\u001b[32malign.pnr.build_pnr_model INFO : Reading contraint json file MY_CIRCUIT.pnr.const.json\u001b[0m\n",
      "\u001b[32malign.pnr.build_pnr_model INFO : Reading contraint json file INV_70158072.pnr.const.json\u001b[0m\n",
      "\u001b[32malign.pnr.build_pnr_model INFO : Reading contraint json file MY_CIRCUIT.pnr.const.json\u001b[0m\n",
      "\u001b[32malign.pnr.build_pnr_model INFO : Reading contraint json file INV_70158072.pnr.const.json\u001b[0m\n",
      "\u001b[32malign.pnr.placer INFO : Starting bottom-up placement on INV_70158072 1\u001b[0m\n",
      "\u001b[32mPnR.placer.SeqPair.SeqPair INFO : Enumerated search\u001b[0m\n",
      "\u001b[32mPnR.placer.Placer.PlacementCoreAspectRatio_ILP INFO : Exhausted all permutations of seq pairs and found 1 placement solution(s)\u001b[0m\n",
      "\u001b[32malign.pnr.placer INFO : Starting bottom-up placement on MY_CIRCUIT 0\u001b[0m\n",
      "\u001b[32mPnR.placer.SeqPair.SeqPair INFO : Enumerated search\u001b[0m\n",
      "\u001b[32mPnR.placer.Placer.PlacementCoreAspectRatio_ILP INFO : Exhausted all permutations of seq pairs and found 1 placement solution(s)\u001b[0m\n",
      "\u001b[31mPnR.placer.ILP_solver.updateTerminalCenter ERROR : Placer-Warning: terminal 2 is dangling; set it on origin\u001b[0m\n",
      "\u001b[31mPnR.placer.ILP_solver.updateTerminalCenter ERROR : Placer-Warning: terminal 3 is dangling; set it on origin\u001b[0m\n",
      "\u001b[32malign.pnr.build_pnr_model INFO : Reading contraint json file MY_CIRCUIT.pnr.const.json\u001b[0m\n",
      "\u001b[32malign.pnr.build_pnr_model INFO : Reading contraint json file INV_70158072.pnr.const.json\u001b[0m\n",
      "\u001b[32mPnR.placer.SeqPair.SeqPair INFO : Enumerated search\u001b[0m\n",
      "\u001b[32mPnR.placer.SeqPair.SeqPair INFO : Enumerated search\u001b[0m\n",
      "\u001b[31mPnR.placer.ILP_solver.updateTerminalCenter ERROR : Placer-Warning: terminal 2 is dangling; set it on origin\u001b[0m\n",
      "\u001b[31mPnR.placer.ILP_solver.updateTerminalCenter ERROR : Placer-Warning: terminal 3 is dangling; set it on origin\u001b[0m\n",
      "\u001b[32malign.pnr.router INFO : Starting top_down routing on MY_CIRCUIT 0 restricted to None\u001b[0m\n",
      "\u001b[32mPnR.router.Router.RouteWork INFO : GcellGlobalRouter: INV_70158072\u001b[0m\n",
      "\u001b[32mPnR.router.Router.RouteWork INFO : GcellDetailRouter: INV_70158072\u001b[0m\n",
      "\u001b[32mPnR.router.Router.RouteWork INFO : GcellGlobalRouter: MY_CIRCUIT\u001b[0m\n",
      "\u001b[32mPnR.router.Router.RouteWork INFO : GcellDetailRouter: MY_CIRCUIT\u001b[0m\n",
      "\u001b[32mPnR.router.Router.RouteWork INFO : Create power grid: MY_CIRCUIT\u001b[0m\n",
      "\u001b[32mPnR.router.Router.RouteWork INFO : Power routing MY_CIRCUIT\u001b[0m\n",
      "\u001b[31malign.cell_fabric.drc ERROR : Found errors: DRC 4\u001b[0m\n",
      "\u001b[32malign.pnr.main INFO : OUTPUT json at /PIACC/3_pnr/INV_70158072_0_0.json\u001b[0m\n",
      "\u001b[31malign.pnr.main ERROR : 4 LVS / DRC errors found !!!\u001b[0m\n",
      "\u001b[32malign.pnr.main INFO : OUTPUT error file at /PIACC/3_pnr/INV_70158072_0_0.errors\u001b[0m\n",
      "\u001b[32malign.pnr.main INFO : OUTPUT gds.json /PIACC/3_pnr/INV_70158072_0_0.python.gds.json\u001b[0m\n",
      "\u001b[31malign.cell_fabric.drc ERROR : Found errors: DRC 4\u001b[0m\n",
      "\u001b[32malign.pnr.main INFO : OUTPUT json at /PIACC/3_pnr/MY_CIRCUIT_0.json\u001b[0m\n",
      "\u001b[31malign.pnr.main ERROR : 4 LVS / DRC errors found !!!\u001b[0m\n",
      "\u001b[32malign.pnr.main INFO : OUTPUT error file at /PIACC/3_pnr/MY_CIRCUIT_0.errors\u001b[0m\n",
      "\u001b[32malign.pnr.main INFO : OUTPUT gds.json /PIACC/3_pnr/MY_CIRCUIT_0.python.gds.json\u001b[0m\n",
      "Use KLayout to visualize the generated GDS: /PIACC/MY_CIRCUIT_0.gds\n",
      "Use KLayout to visualize the python generated GDS: /PIACC/MY_CIRCUIT_0.python.gds\n"
     ]
    }
   ],
   "source": [
    "!schematic2layout.py './ALIGN_WORK_DIR/my_circuit/' -p '/ALIGN-public/pdks/SKY130_PDK/' -w "
   ]
  },
  {
   "attachments": {
    "c808f629-0e23-4c5a-beb5-0fa903202414.png": {
     "image/png": "[encoded data removed]"
    }
   },
   "cell_type": "markdown",
   "id": "6c02c02a-aa3f-4b80-af28-2e2d75b7d0c4",
   "metadata": {},
   "source": [
    "# Output GDS should look like this\n",
    "\n",
    "![Screenshot from 2025-07-30 12-48-09.png](attachment:c808f629-0e23-4c5a-beb5-0fa903202414.png)\n",
    "\n",
    "This will depend on what seed is used for the ALIGN generator. Many more customization options are available through ALIGN's scripts. It is recommended to use KLayout or another GDS viewer to interact with the gds files."
   ]
  }
 ],
 "metadata": {
  "kernelspec": {
   "display_name": "Python 3 (ipykernel)",
   "language": "python",
   "name": "python3"
  },
  "language_info": {
   "codemirror_mode": {
    "name": "ipython",
    "version": 3
   },
   "file_extension": ".py",
   "mimetype": "text/x-python",
   "name": "python",
   "nbconvert_exporter": "python",
   "pygments_lexer": "ipython3",
   "version": "3.10.12"
  }
 },
 "nbformat": 4,
 "nbformat_minor": 5
}
